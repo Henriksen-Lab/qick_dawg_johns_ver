{
 "cells": [
  {
   "cell_type": "code",
   "execution_count": 20,
   "id": "a722f785",
   "metadata": {},
   "outputs": [
    {
     "name": "stdout",
     "output_type": "stream",
     "text": [
      "['CMSPAR', 'IOSSIOSPEED', 'PlatformSpecific', 'PlatformSpecificBase', 'PortNotOpenError', 'PosixPollSerial', 'Serial', 'SerialBase', 'SerialException', 'SerialTimeoutException', 'TIOCCBRK', 'TIOCINQ', 'TIOCMBIC', 'TIOCMBIS', 'TIOCMGET', 'TIOCMSET', 'TIOCM_CAR', 'TIOCM_CD', 'TIOCM_CTS', 'TIOCM_DSR', 'TIOCM_DTR', 'TIOCM_DTR_str', 'TIOCM_RI', 'TIOCM_RNG', 'TIOCM_RTS', 'TIOCM_RTS_str', 'TIOCM_zero_str', 'TIOCOUTQ', 'TIOCSBRK', 'Timeout', 'VTIMESerial', '__builtins__', '__cached__', '__doc__', '__file__', '__loader__', '__name__', '__package__', '__spec__', 'absolute_import', 'array', 'errno', 'fcntl', 'os', 'plat', 'select', 'serial', 'struct', 'sys', 'termios', 'to_bytes']\n"
     ]
    }
   ],
   "source": [
    "from serial.tools import list_ports\n",
    "from serial import serialposix\n",
    "\n",
    "print(dir(serialposix))\n",
    "\n",
    "ser = serialposix.Serial()"
   ]
  },
  {
   "cell_type": "code",
   "execution_count": 16,
   "id": "9f0eb5dc",
   "metadata": {},
   "outputs": [
    {
     "name": "stdout",
     "output_type": "stream",
     "text": [
      "[]\n"
     ]
    }
   ],
   "source": [
    "object_methods = [method_name for method_name in dir(serial)\n",
    "                  if callable(getattr(serial, method_name))]\n",
    "print(object_methods)"
   ]
  },
  {
   "cell_type": "code",
   "execution_count": null,
   "id": "d298d51e",
   "metadata": {},
   "outputs": [],
   "source": []
  },
  {
   "cell_type": "code",
   "execution_count": null,
   "id": "ad1fef09",
   "metadata": {},
   "outputs": [],
   "source": []
  },
  {
   "cell_type": "code",
   "execution_count": null,
   "id": "f2c71c42",
   "metadata": {},
   "outputs": [],
   "source": []
  }
 ],
 "metadata": {
  "kernelspec": {
   "display_name": "Python 3 (ipykernel)",
   "language": "python",
   "name": "python3"
  },
  "language_info": {
   "codemirror_mode": {
    "name": "ipython",
    "version": 3
   },
   "file_extension": ".py",
   "mimetype": "text/x-python",
   "name": "python",
   "nbconvert_exporter": "python",
   "pygments_lexer": "ipython3",
   "version": "3.10.9"
  }
 },
 "nbformat": 4,
 "nbformat_minor": 5
}
